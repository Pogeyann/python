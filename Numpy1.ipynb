{
  "nbformat": 4,
  "nbformat_minor": 0,
  "metadata": {
    "colab": {
      "provenance": [],
      "authorship_tag": "ABX9TyMQhfiDUKNdTIR0vMpyoKEs",
      "include_colab_link": true
    },
    "kernelspec": {
      "name": "python3",
      "display_name": "Python 3"
    },
    "language_info": {
      "name": "python"
    }
  },
  "cells": [
    {
      "cell_type": "markdown",
      "metadata": {
        "id": "view-in-github",
        "colab_type": "text"
      },
      "source": [
        "<a href=\"https://colab.research.google.com/github/Pogeyann/python/blob/main/Numpy1.ipynb\" target=\"_parent\"><img src=\"https://colab.research.google.com/assets/colab-badge.svg\" alt=\"Open In Colab\"/></a>"
      ]
    },
    {
      "cell_type": "markdown",
      "source": [
        "sudo apt-get install python3-distutils\n",
        "\n",
        "sudo pip install numpy\n",
        "\n",
        "sudo apt install pip"
      ],
      "metadata": {
        "id": "j7Sp2WyRmGMR"
      }
    },
    {
      "cell_type": "markdown",
      "source": [
        "#NUMPY\n",
        "Numerical python-fixed type\n",
        "\n",
        "Faster to read less bytes of memory\n",
        "\n",
        "no type checking when iterating through objects\n",
        "\n",
        "For Mathematical operations\n",
        "\n",
        "Such as:matrix Operations,vectors,forrier transform,Linear Algebra\n",
        "\n",
        "face recognition\n",
        "\n"
      ],
      "metadata": {
        "id": "1qzAvqciKO2K"
      }
    },
    {
      "cell_type": "markdown",
      "source": [
        "#Why numpy is faster\n",
        "\n",
        "\n",
        "*   Fixed Type\n",
        "*   Contiguous memory - Contiguous memory allocation is basically a method in which a single contiguous section/part of memory is allocated to a process or file needing it. \n",
        "\n"
      ],
      "metadata": {
        "id": "0xpgtMUdy2l3"
      }
    },
    {
      "cell_type": "markdown",
      "source": [
        "[100 110 90 120]\n",
        "\n",
        "[200 210 180 170]\n",
        "\n",
        "[110 120 90 150]\n",
        "\n",
        "[210 250 240 270]"
      ],
      "metadata": {
        "id": "k7Tvi8P1LX-H"
      }
    },
    {
      "cell_type": "code",
      "execution_count": null,
      "metadata": {
        "id": "HcP3ZNYzKNdQ",
        "colab": {
          "base_uri": "https://localhost:8080/"
        },
        "outputId": "8aea7b85-1891-48d4-f6f0-9cb3ea9e04d2"
      },
      "outputs": [
        {
          "output_type": "stream",
          "name": "stdout",
          "text": [
            "[1 2 3 4 5]\n"
          ]
        }
      ],
      "source": [
        "import numpy as np\n",
        "a=np.array([1,2,3,4,5])\n",
        "print(a)"
      ]
    },
    {
      "cell_type": "markdown",
      "source": [
        "#SCIPY\n",
        "Scientific python\n",
        "\n",
        "using differentiation,integration,calculus\n",
        "\n"
      ],
      "metadata": {
        "id": "jjlO-IcfjZa5"
      }
    },
    {
      "cell_type": "markdown",
      "source": [
        "#Array\n",
        "#Creating an array using numpy\n",
        " \n",
        " n-dimensional array-Creating an array using numpy\n",
        "\n",
        " Import numpy as np\n",
        "\n",
        " for pandas as pd\n"
      ],
      "metadata": {
        "id": "uW5NuQB6UQaV"
      }
    },
    {
      "cell_type": "code",
      "source": [
        "#creating an array\n",
        "import numpy as np\n",
        "a=np.array([3,4,5,6,7])\n",
        "print(type(a)) #ndimension array"
      ],
      "metadata": {
        "colab": {
          "base_uri": "https://localhost:8080/"
        },
        "id": "7AwJ_046V0V6",
        "outputId": "332c0c82-c7ac-4c8b-a4e3-bc478b5e21e6"
      },
      "execution_count": null,
      "outputs": [
        {
          "output_type": "stream",
          "name": "stdout",
          "text": [
            "<class 'numpy.ndarray'>\n"
          ]
        }
      ]
    },
    {
      "cell_type": "markdown",
      "source": [
        "#Dimension\n",
        "\n",
        "[1 2 3]\n",
        "\n",
        "[4 5 6]\n",
        "\n",
        "order(2*3)\n",
        "\n",
        "rows=2,\n",
        "\n",
        "columns=3\n",
        "\n",
        "[1 3 4]\n",
        "[5 6 7]\n",
        "[4 3 1]\n",
        "[6 7 8]\n",
        "\n",
        "4*3 rows=4,columns=3::::::::\n",
        "\n",
        "[1]\n",
        "[2]\n",
        "[3]\n",
        "[4]\n",
        "\n",
        "4*1\n",
        "\n",
        "[1,2,3,4]\n",
        "\n",
        "#Number of axis\n",
        "\n",
        "1 D -only single axis(x)\n",
        "\n",
        "2 D -x and Y axis, list within a list\n",
        "\n",
        "3 D z,x,and y axis\n",
        "\n"
      ],
      "metadata": {
        "id": "asWUWN_dWYxA"
      }
    },
    {
      "cell_type": "markdown",
      "source": [
        "#how to display dimension\n",
        "\n",
        "#ndim    (x) -for printing dimension"
      ],
      "metadata": {
        "id": "n7AZG_hPaUDE"
      }
    },
    {
      "cell_type": "code",
      "source": [
        "print(a.ndim)"
      ],
      "metadata": {
        "colab": {
          "base_uri": "https://localhost:8080/"
        },
        "id": "oaPjOJTOaY5e",
        "outputId": "d7163ac2-99c3-4861-cb99-b10f8e74a4e6"
      },
      "execution_count": null,
      "outputs": [
        {
          "output_type": "stream",
          "name": "stdout",
          "text": [
            "1\n"
          ]
        }
      ]
    },
    {
      "cell_type": "markdown",
      "source": [
        "Matrix order printing\n",
        "\n",
        "MACHINE CALCULATES AS ROWS \n",
        "\n",
        "[3]\n",
        "\n",
        "[4]\n",
        "\n",
        "[5]\n",
        "\n",
        "[6]\n",
        "\n",
        "[7]\n"
      ],
      "metadata": {
        "id": "2Ebu3DmnaqG8"
      }
    },
    {
      "cell_type": "code",
      "source": [
        "\n",
        "print(a.shape)"
      ],
      "metadata": {
        "colab": {
          "base_uri": "https://localhost:8080/"
        },
        "id": "eCmzIBi0a2zf",
        "outputId": "cc5a1b33-9e2c-486e-be13-afe5ef7baab0"
      },
      "execution_count": null,
      "outputs": [
        {
          "output_type": "stream",
          "name": "stdout",
          "text": [
            "(5,)\n"
          ]
        }
      ]
    },
    {
      "cell_type": "markdown",
      "source": [
        "#2Dimension\n",
        " a=np.array([[ ]])"
      ],
      "metadata": {
        "id": "hC-mrYt9dHQA"
      }
    },
    {
      "cell_type": "code",
      "source": [
        "import numpy as np\n",
        "a=np.array([[1,2,3,4,5],[4,5,6,7,8]])\n",
        "\n",
        "print(a)\n",
        "print(a.shape)\n",
        "print(a.ndim)\n",
        "print(a.size)\n",
        "print(a.itemsize) #bit size"
      ],
      "metadata": {
        "colab": {
          "base_uri": "https://localhost:8080/"
        },
        "id": "P9unUcPrbwpF",
        "outputId": "ce49f59e-4f79-4011-e0f0-7187c5cbb38d"
      },
      "execution_count": null,
      "outputs": [
        {
          "output_type": "stream",
          "name": "stdout",
          "text": [
            "[[1 2 3 4 5]\n",
            " [4 5 6 7 8]]\n",
            "(2, 5)\n",
            "2\n",
            "10\n",
            "8\n"
          ]
        }
      ]
    },
    {
      "cell_type": "code",
      "source": [
        "#2dimension 4*4 matrix\n",
        "import numpy as np\n",
        "a=np.array([[1,2,3,4],[3,4,5,6],[5,6,7,8],[7,8,9,0]])\n",
        "print(a)\n",
        "print(a.shape)\n",
        "print(a.ndim)\n",
        "print(a[1][3])"
      ],
      "metadata": {
        "colab": {
          "base_uri": "https://localhost:8080/"
        },
        "id": "hSjZ1g_ed4mn",
        "outputId": "ad5ac113-43bb-450f-a815-82d0b92901d2"
      },
      "execution_count": null,
      "outputs": [
        {
          "output_type": "stream",
          "name": "stdout",
          "text": [
            "[[1 2 3 4]\n",
            " [3 4 5 6]\n",
            " [5 6 7 8]\n",
            " [7 8 9 0]]\n",
            "(4, 4)\n",
            "2\n",
            "6\n"
          ]
        }
      ]
    },
    {
      "cell_type": "markdown",
      "source": [
        "3 Dimension (2*2)  (z,x,y)"
      ],
      "metadata": {
        "id": "aDcxtcgOe7Tu"
      }
    },
    {
      "cell_type": "code",
      "source": [
        "import numpy as np\n",
        "a=np.array([[[2,2],[2,4]]])\n",
        "print(a)\n",
        "print(a.ndim)\n",
        "print(a.shape)"
      ],
      "metadata": {
        "colab": {
          "base_uri": "https://localhost:8080/"
        },
        "id": "Z_JweqPXe-FU",
        "outputId": "16137bb8-e57a-45c0-8d2c-41149a8d9a16"
      },
      "execution_count": null,
      "outputs": [
        {
          "output_type": "stream",
          "name": "stdout",
          "text": [
            "[[[2 2]\n",
            "  [2 4]]]\n",
            "3\n",
            "(1, 2, 2)\n"
          ]
        }
      ]
    },
    {
      "cell_type": "markdown",
      "source": [
        "#3 D (4*3)"
      ],
      "metadata": {
        "id": "Vd73BahVgdAS"
      }
    },
    {
      "cell_type": "code",
      "source": [
        "import numpy as np\n",
        "a=np.array([[[1,2,3],[2,3,4],[3,4,5],[4,5,6]]])\n",
        "print(a)\n",
        "print(a.ndim)\n",
        "print(a.shape)\n",
        "print(a.size)"
      ],
      "metadata": {
        "colab": {
          "base_uri": "https://localhost:8080/"
        },
        "id": "Zcge8d0pgcEb",
        "outputId": "fc4bbf65-e94a-471e-c2b3-cfe338102dd2"
      },
      "execution_count": null,
      "outputs": [
        {
          "output_type": "stream",
          "name": "stdout",
          "text": [
            "[[[1 2 3]\n",
            "  [2 3 4]\n",
            "  [3 4 5]\n",
            "  [4 5 6]]]\n",
            "3\n",
            "(1, 4, 3)\n",
            "12\n"
          ]
        }
      ]
    },
    {
      "cell_type": "markdown",
      "source": [
        "#2D 5*4"
      ],
      "metadata": {
        "id": "S_L9o1QZg29B"
      }
    },
    {
      "cell_type": "code",
      "source": [
        "a=np.array([[5,4,3,2],[4,3,2,1],[3,2,1,0],[2,1,0,0],[1,0,0,0]])\n",
        "print(a)\n",
        "print(a.shape)\n",
        "print(a.ndim)\n",
        "print(a.size)"
      ],
      "metadata": {
        "colab": {
          "base_uri": "https://localhost:8080/"
        },
        "id": "50Q-qo8Xe5G7",
        "outputId": "ab44deb0-67df-4c99-8eef-df7b5b4bef34"
      },
      "execution_count": null,
      "outputs": [
        {
          "output_type": "stream",
          "name": "stdout",
          "text": [
            "[[5 4 3 2]\n",
            " [4 3 2 1]\n",
            " [3 2 1 0]\n",
            " [2 1 0 0]\n",
            " [1 0 0 0]]\n",
            "(5, 4)\n",
            "2\n",
            "20\n"
          ]
        }
      ]
    },
    {
      "cell_type": "markdown",
      "source": [
        "#***Total no of elements in a matrix***\n",
        "\n",
        "(3,4) ===> 12\n",
        "\n",
        "(5,4) ===> 20\n",
        "\n",
        "(6,5) ===> 30\n",
        "\n",
        "(1,3,4) ==> \n",
        "\n",
        "**Size function is used**"
      ],
      "metadata": {
        "id": "pkSlVjkBh3Lt"
      }
    },
    {
      "cell_type": "code",
      "source": [
        "print(a.size)"
      ],
      "metadata": {
        "colab": {
          "base_uri": "https://localhost:8080/"
        },
        "id": "bbH42kdwiIlq",
        "outputId": "ade5d934-2544-4674-b149-3fab82493602"
      },
      "execution_count": null,
      "outputs": [
        {
          "output_type": "stream",
          "name": "stdout",
          "text": [
            "12\n"
          ]
        }
      ]
    },
    {
      "cell_type": "markdown",
      "source": [
        "2D total no.element 20)"
      ],
      "metadata": {
        "id": "MbHt-upri2yS"
      }
    },
    {
      "cell_type": "code",
      "source": [
        "import numpy as np\n",
        "a=np.array([[1,2,3,4,5],[2,3,4,5,6],[3,4,5,6,7],[4,5,6,7,8]])\n",
        "print(a.ndim)\n",
        "print(a)\n",
        "print(a.size)\n",
        "print(a.shape)"
      ],
      "metadata": {
        "colab": {
          "base_uri": "https://localhost:8080/"
        },
        "id": "BCWDlxGri1dG",
        "outputId": "96ea8e4e-f678-44b6-bc08-5d969c0c61c3"
      },
      "execution_count": null,
      "outputs": [
        {
          "output_type": "stream",
          "name": "stdout",
          "text": [
            "2\n",
            "[[1 2 3 4 5]\n",
            " [2 3 4 5 6]\n",
            " [3 4 5 6 7]\n",
            " [4 5 6 7 8]]\n",
            "20\n",
            "(4, 5)\n"
          ]
        }
      ]
    },
    {
      "cell_type": "markdown",
      "source": [
        "#To print a datatype of a matrix\n",
        "\n",
        "**Dtype function is used**"
      ],
      "metadata": {
        "id": "HfNrxqXujrlG"
      }
    },
    {
      "cell_type": "code",
      "source": [
        "print(a.dtype)"
      ],
      "metadata": {
        "colab": {
          "base_uri": "https://localhost:8080/"
        },
        "id": "ZtpIlHsVj989",
        "outputId": "bf4d4320-4428-4e39-f2b9-b5bfb402bea8"
      },
      "execution_count": null,
      "outputs": [
        {
          "output_type": "stream",
          "name": "stdout",
          "text": [
            "int64\n"
          ]
        }
      ]
    },
    {
      "cell_type": "markdown",
      "source": [
        "slicing"
      ],
      "metadata": {
        "id": "JsC593csgVmK"
      }
    },
    {
      "cell_type": "markdown",
      "source": [
        "#Different types of arrays"
      ],
      "metadata": {
        "id": "rsCoJdlH60vG"
      }
    },
    {
      "cell_type": "markdown",
      "source": [
        "##Zero Matrix\n",
        "\n",
        "eg:\n",
        "\n",
        "[0,0,0]\n",
        "\n",
        "[0,0,0]\n",
        "\n",
        "[0,0,0]\n",
        "(3*3)\n",
        "\n",
        "[0 0 0]\n",
        "\n",
        "[0 0 0]\n",
        "(2*3)\n",
        "\n",
        "zeros function\n"
      ],
      "metadata": {
        "id": "Ie0RQK9tkCAd"
      }
    },
    {
      "cell_type": "code",
      "source": [
        "import numpy as np\n",
        "a=np.zeros([4,3])\n",
        "b=np.zeros(5)\n",
        "print(b)\n",
        "print(a)\n",
        "print(a.shape)\n",
        "print(a.ndim)\n",
        "print(a.dtype)"
      ],
      "metadata": {
        "colab": {
          "base_uri": "https://localhost:8080/"
        },
        "id": "skI7M_CdkMni",
        "outputId": "a22c8055-942a-4c87-e9d4-9c36e2bcc544"
      },
      "execution_count": null,
      "outputs": [
        {
          "output_type": "stream",
          "name": "stdout",
          "text": [
            "[0. 0. 0. 0. 0.]\n",
            "[[0. 0. 0.]\n",
            " [0. 0. 0.]\n",
            " [0. 0. 0.]\n",
            " [0. 0. 0.]]\n",
            "(4, 3)\n",
            "2\n",
            "float64\n"
          ]
        }
      ]
    },
    {
      "cell_type": "code",
      "source": [
        "import numpy as np\n",
        "a=np.array([3,4],dtype=int)\n",
        "print(a)"
      ],
      "metadata": {
        "colab": {
          "base_uri": "https://localhost:8080/"
        },
        "id": "r7DjMpHKlmXH",
        "outputId": "6bce888a-c968-4f5c-cf46-319b3c62f664"
      },
      "execution_count": null,
      "outputs": [
        {
          "output_type": "stream",
          "name": "stdout",
          "text": [
            "[3 4]\n"
          ]
        }
      ]
    },
    {
      "cell_type": "markdown",
      "source": [
        "##zeros one dimension"
      ],
      "metadata": {
        "id": "huHnEP1X8vhC"
      }
    },
    {
      "cell_type": "code",
      "source": [
        "import numpy as np\n",
        "a=np.zeros([15])\n",
        "print(a)\n",
        "print(a.ndim)\n",
        "print(a.size)"
      ],
      "metadata": {
        "colab": {
          "base_uri": "https://localhost:8080/"
        },
        "id": "UFVHd3HS85af",
        "outputId": "d11d86b7-c0ef-4d8b-cdfc-e4f0559ae9fe"
      },
      "execution_count": null,
      "outputs": [
        {
          "output_type": "stream",
          "name": "stdout",
          "text": [
            "[0. 0. 0. 0. 0. 0. 0. 0. 0. 0. 0. 0. 0. 0. 0.]\n",
            "1\n",
            "15\n"
          ]
        }
      ]
    },
    {
      "cell_type": "markdown",
      "source": [
        "##zeros 3dimension"
      ],
      "metadata": {
        "id": "ztK0ONKD9F54"
      }
    },
    {
      "cell_type": "code",
      "source": [
        "import numpy as np\n",
        "a=np.zeros([1,5,4],dtype=int)\n",
        "print(a)\n",
        "print(a.ndim)\n",
        "print(a.size)"
      ],
      "metadata": {
        "colab": {
          "base_uri": "https://localhost:8080/"
        },
        "id": "oAGdTzGP9LqV",
        "outputId": "4ffa7914-97b2-4e20-c186-828a91ff383b"
      },
      "execution_count": null,
      "outputs": [
        {
          "output_type": "stream",
          "name": "stdout",
          "text": [
            "[[[0 0 0 0]\n",
            "  [0 0 0 0]\n",
            "  [0 0 0 0]\n",
            "  [0 0 0 0]\n",
            "  [0 0 0 0]]]\n",
            "3\n",
            "20\n"
          ]
        }
      ]
    },
    {
      "cell_type": "code",
      "source": [
        "a=np.zeros([2,5,4],dtype=int)\n",
        "print(a)\n",
        "print(a.ndim)\n",
        "print(a.size)"
      ],
      "metadata": {
        "colab": {
          "base_uri": "https://localhost:8080/"
        },
        "id": "t3qUKGLk-Qm0",
        "outputId": "b09cc936-da30-405f-f4d4-090a01d48a03"
      },
      "execution_count": null,
      "outputs": [
        {
          "output_type": "stream",
          "name": "stdout",
          "text": [
            "[[[0 0 0 0]\n",
            "  [0 0 0 0]\n",
            "  [0 0 0 0]\n",
            "  [0 0 0 0]\n",
            "  [0 0 0 0]]\n",
            "\n",
            " [[0 0 0 0]\n",
            "  [0 0 0 0]\n",
            "  [0 0 0 0]\n",
            "  [0 0 0 0]\n",
            "  [0 0 0 0]]]\n",
            "3\n",
            "40\n"
          ]
        }
      ]
    },
    {
      "cell_type": "markdown",
      "source": [
        "##Ones matrix\n",
        "[1 1]\n",
        "[1 1] (2*2)\n",
        "\n",
        "[1 1 1] (2*3)\n",
        "\n",
        "[1 0]"
      ],
      "metadata": {
        "id": "i8mh6FOL-oXC"
      }
    },
    {
      "cell_type": "code",
      "source": [
        "import numpy as np\n",
        "a=np.ones([4,5])\n",
        "print(a)\n",
        "print(a.dtype) #Default datatype is normally float"
      ],
      "metadata": {
        "colab": {
          "base_uri": "https://localhost:8080/"
        },
        "id": "1OmPRKFc--Bw",
        "outputId": "51fcba4f-7295-41ad-baed-527a62277e76"
      },
      "execution_count": null,
      "outputs": [
        {
          "output_type": "stream",
          "name": "stdout",
          "text": [
            "[[1. 1. 1. 1. 1.]\n",
            " [1. 1. 1. 1. 1.]\n",
            " [1. 1. 1. 1. 1.]\n",
            " [1. 1. 1. 1. 1.]]\n",
            "float64\n"
          ]
        }
      ]
    },
    {
      "cell_type": "code",
      "source": [
        "import numpy as np\n",
        "output = np.ones((5,5))\n",
        "print(output)\n",
        "z = np.zeros((3,3))\n",
        "z[1,1] = 9\n",
        "print(z)\n",
        "\n",
        "output[1:4,1:4] = z\n",
        "print(output)"
      ],
      "metadata": {
        "colab": {
          "base_uri": "https://localhost:8080/"
        },
        "id": "rAPnP-5l-NC9",
        "outputId": "436cdf28-665f-4e38-e204-1ab62a155cf5"
      },
      "execution_count": null,
      "outputs": [
        {
          "output_type": "stream",
          "name": "stdout",
          "text": [
            "[[1. 1. 1. 1. 1.]\n",
            " [1. 1. 1. 1. 1.]\n",
            " [1. 1. 1. 1. 1.]\n",
            " [1. 1. 1. 1. 1.]\n",
            " [1. 1. 1. 1. 1.]]\n",
            "[[0. 0. 0.]\n",
            " [0. 9. 0.]\n",
            " [0. 0. 0.]]\n",
            "[[1. 1. 1. 1. 1.]\n",
            " [1. 0. 0. 0. 1.]\n",
            " [1. 0. 9. 0. 1.]\n",
            " [1. 0. 0. 0. 1.]\n",
            " [1. 1. 1. 1. 1.]]\n"
          ]
        }
      ]
    },
    {
      "cell_type": "markdown",
      "source": [
        "###Be careful when copying arrays"
      ],
      "metadata": {
        "id": "AfumtPnO-5vI"
      }
    },
    {
      "cell_type": "code",
      "source": [
        "a = np.array([1,2,3])\n",
        "b = a.copy()\n",
        "b[0] = 100\n",
        "print(a)\n",
        "b= a\n",
        "b[0] = 100\n",
        "print(a) #b=a and a.copy() are different"
      ],
      "metadata": {
        "colab": {
          "base_uri": "https://localhost:8080/"
        },
        "id": "p8kTmvC--91E",
        "outputId": "c44a4dd3-e55a-4792-f76f-98c04b9828dc"
      },
      "execution_count": null,
      "outputs": [
        {
          "output_type": "stream",
          "name": "stdout",
          "text": [
            "[1 2 3]\n",
            "[100   2   3]\n"
          ]
        }
      ]
    },
    {
      "cell_type": "markdown",
      "source": [
        "##One dimension 10"
      ],
      "metadata": {
        "id": "keM9nTiXAA83"
      }
    },
    {
      "cell_type": "code",
      "source": [
        "import numpy as np\n",
        "a=np.ones([20],dtype=int)\n",
        "print(a)\n",
        "print(a.size)\n",
        "print(a.ndim)"
      ],
      "metadata": {
        "colab": {
          "base_uri": "https://localhost:8080/"
        },
        "id": "YMj4_iSZ_9ot",
        "outputId": "df83bac3-0db9-4468-ef64-e8bb44767d41"
      },
      "execution_count": null,
      "outputs": [
        {
          "output_type": "stream",
          "name": "stdout",
          "text": [
            "[1 1 1 1 1 1 1 1 1 1 1 1 1 1 1 1 1 1 1 1]\n",
            "20\n",
            "1\n"
          ]
        }
      ]
    },
    {
      "cell_type": "markdown",
      "source": [
        "##3d one 4*4 dtype int"
      ],
      "metadata": {
        "id": "1YJdyZJ0AD5K"
      }
    },
    {
      "cell_type": "code",
      "source": [
        "import numpy as np\n",
        "a=np.ones([1,4,4],dtype=int)\n",
        "print(a)\n",
        "print(a.size)\n",
        "print(a.ndim)\n",
        "print(a.dtype)"
      ],
      "metadata": {
        "colab": {
          "base_uri": "https://localhost:8080/"
        },
        "id": "m7gWum5eAcPO",
        "outputId": "2d19124e-45d5-4772-dd23-82aceb88110b"
      },
      "execution_count": null,
      "outputs": [
        {
          "output_type": "stream",
          "name": "stdout",
          "text": [
            "[[[1 1 1 1]\n",
            "  [1 1 1 1]\n",
            "  [1 1 1 1]\n",
            "  [1 1 1 1]]]\n",
            "16\n",
            "3\n",
            "int64\n"
          ]
        }
      ]
    },
    {
      "cell_type": "markdown",
      "source": [
        "##Full matrix\n",
        "\n",
        "matrix is created by passing a number,where matrix is created with that number\n",
        "\n",
        "[5 5]     2*2 matrix\n",
        "\n",
        "[4 4 4 4]\n",
        "\n",
        "[4 4 4 4]\n",
        "\n",
        "[4 4 4 4]  (3*4) matrix"
      ],
      "metadata": {
        "id": "-_utr27iBKWl"
      }
    },
    {
      "cell_type": "code",
      "source": [
        "a=np.full([3,4],5)\n",
        "print(a)\n",
        "print(a.ndim)\n",
        "print(a.size)"
      ],
      "metadata": {
        "colab": {
          "base_uri": "https://localhost:8080/"
        },
        "id": "tpWUoMIsBMUH",
        "outputId": "d71f7025-bc4d-4c04-e8a8-70ed0f34cf83"
      },
      "execution_count": null,
      "outputs": [
        {
          "output_type": "stream",
          "name": "stdout",
          "text": [
            "[[5 5 5 5]\n",
            " [5 5 5 5]\n",
            " [5 5 5 5]]\n",
            "2\n",
            "12\n"
          ]
        }
      ]
    },
    {
      "cell_type": "code",
      "source": [
        "#(6*5) 3\n",
        "a=np.full([6,5],3)\n",
        "print(a)\n",
        "print(a.size)"
      ],
      "metadata": {
        "colab": {
          "base_uri": "https://localhost:8080/"
        },
        "id": "GPdRZtFNDdxN",
        "outputId": "ef4d54c1-840f-4112-9f94-fa16f6ca3e35"
      },
      "execution_count": null,
      "outputs": [
        {
          "output_type": "stream",
          "name": "stdout",
          "text": [
            "[[3 3 3 3 3]\n",
            " [3 3 3 3 3]\n",
            " [3 3 3 3 3]\n",
            " [3 3 3 3 3]\n",
            " [3 3 3 3 3]\n",
            " [3 3 3 3 3]]\n",
            "30\n"
          ]
        }
      ]
    },
    {
      "cell_type": "markdown",
      "source": [
        "one dimension 25"
      ],
      "metadata": {
        "id": "YYJHQMgmECqM"
      }
    },
    {
      "cell_type": "code",
      "source": [
        "a=np.full([25],2)\n",
        "print(a)\n",
        "print(a.ndim)"
      ],
      "metadata": {
        "colab": {
          "base_uri": "https://localhost:8080/"
        },
        "id": "x2PQrslFD81C",
        "outputId": "b1b9ae0a-acf6-4edb-b54f-7863c019a680"
      },
      "execution_count": null,
      "outputs": [
        {
          "output_type": "stream",
          "name": "stdout",
          "text": [
            "[2 2 2 2 2 2 2 2 2 2 2 2 2 2 2 2 2 2 2 2 2 2 2 2 2]\n",
            "1\n"
          ]
        }
      ]
    },
    {
      "cell_type": "markdown",
      "source": [
        "3d (5*4) [4] [3 repeat]"
      ],
      "metadata": {
        "id": "TuU4vWcQEH5G"
      }
    },
    {
      "cell_type": "code",
      "source": [
        "a=np.full([3,5,4],4)\n",
        "print(a)\n",
        "print(a.ndim)"
      ],
      "metadata": {
        "colab": {
          "base_uri": "https://localhost:8080/"
        },
        "id": "dHXqvdX1EU2n",
        "outputId": "d60639c4-e9d8-4a1a-99f9-75d49842e32b"
      },
      "execution_count": null,
      "outputs": [
        {
          "output_type": "stream",
          "name": "stdout",
          "text": [
            "[[[4 4 4 4]\n",
            "  [4 4 4 4]\n",
            "  [4 4 4 4]\n",
            "  [4 4 4 4]\n",
            "  [4 4 4 4]]\n",
            "\n",
            " [[4 4 4 4]\n",
            "  [4 4 4 4]\n",
            "  [4 4 4 4]\n",
            "  [4 4 4 4]\n",
            "  [4 4 4 4]]\n",
            "\n",
            " [[4 4 4 4]\n",
            "  [4 4 4 4]\n",
            "  [4 4 4 4]\n",
            "  [4 4 4 4]\n",
            "  [4 4 4 4]]]\n",
            "3\n"
          ]
        }
      ]
    },
    {
      "cell_type": "markdown",
      "source": [
        "##Identity matrix\n",
        "\n",
        "diagonal elements are 1 and others are zeros\n",
        "\n",
        "[0 1]\n",
        "\n",
        "[1 0] (2*2)\n",
        "\n",
        "\n",
        "[1 0 0]\n",
        "\n",
        "[0 1 0]\n",
        "\n",
        "[0 0 1] (3*3)\n",
        "\n",
        "\n",
        "[1 0 0 0]\n",
        "\n",
        "[0 1 0 0]\n",
        "\n",
        "[0 0 1 0] (3,4) not a identity matrix\n",
        "\n",
        "should be square or symmetric matrix"
      ],
      "metadata": {
        "id": "PE6fjn2xFTDf"
      }
    },
    {
      "cell_type": "code",
      "source": [
        "a=np.eye(3,dtype=int)\n",
        "print(a)"
      ],
      "metadata": {
        "colab": {
          "base_uri": "https://localhost:8080/"
        },
        "id": "16dIHy-VFVvK",
        "outputId": "33f6f308-bc3c-42e0-8a3e-3577365b2663"
      },
      "execution_count": null,
      "outputs": [
        {
          "output_type": "stream",
          "name": "stdout",
          "text": [
            "[[1 0 0]\n",
            " [0 1 0]\n",
            " [0 0 1]]\n"
          ]
        }
      ]
    },
    {
      "cell_type": "code",
      "source": [
        "#total noof element 25\n",
        "a=np.eye(5,dtype=int)\n",
        "print(a)"
      ],
      "metadata": {
        "colab": {
          "base_uri": "https://localhost:8080/"
        },
        "id": "-FifihRKHxjD",
        "outputId": "2e5155a5-f10e-4d61-8276-73e81d5faad9"
      },
      "execution_count": null,
      "outputs": [
        {
          "output_type": "stream",
          "name": "stdout",
          "text": [
            "[[1 0 0 0 0]\n",
            " [0 1 0 0 0]\n",
            " [0 0 1 0 0]\n",
            " [0 0 0 1 0]\n",
            " [0 0 0 0 1]]\n"
          ]
        }
      ]
    },
    {
      "cell_type": "code",
      "source": [
        "a=np.identity(4,dtype=int)\n",
        "print(a)"
      ],
      "metadata": {
        "colab": {
          "base_uri": "https://localhost:8080/"
        },
        "id": "TRYfgG9aJH9_",
        "outputId": "f5d13dba-24cf-4734-c652-10f6852e388f"
      },
      "execution_count": null,
      "outputs": [
        {
          "output_type": "stream",
          "name": "stdout",
          "text": [
            "[[1 0 0 0]\n",
            " [0 1 0 0]\n",
            " [0 0 1 0]\n",
            " [0 0 0 1]]\n"
          ]
        }
      ]
    },
    {
      "cell_type": "markdown",
      "source": [
        "##Complex numbers\n",
        "a+ib\n",
        "\n",
        "realpart :a\n",
        "imaginery part:ib\n",
        "\n",
        "eg:4+5j 4,5"
      ],
      "metadata": {
        "id": "6jwEulhHJj5A"
      }
    },
    {
      "cell_type": "code",
      "source": [
        "a=np.zeros([3,3],dtype=complex)\n",
        "print(a)"
      ],
      "metadata": {
        "colab": {
          "base_uri": "https://localhost:8080/"
        },
        "id": "7pX4zHSFJcdg",
        "outputId": "96254c98-4e80-43ac-a311-999b2232c3e1"
      },
      "execution_count": null,
      "outputs": [
        {
          "output_type": "stream",
          "name": "stdout",
          "text": [
            "[[0.+0.j 0.+0.j 0.+0.j]\n",
            " [0.+0.j 0.+0.j 0.+0.j]\n",
            " [0.+0.j 0.+0.j 0.+0.j]]\n"
          ]
        }
      ]
    },
    {
      "cell_type": "code",
      "source": [
        "a=np.ones([4,4],dtype=complex)\n",
        "print(a)"
      ],
      "metadata": {
        "colab": {
          "base_uri": "https://localhost:8080/"
        },
        "id": "ecDizougK6Hy",
        "outputId": "b80bba85-e2f1-45ac-f1bf-b07fef04a0bf"
      },
      "execution_count": null,
      "outputs": [
        {
          "output_type": "stream",
          "name": "stdout",
          "text": [
            "[[1.+0.j 1.+0.j 1.+0.j 1.+0.j]\n",
            " [1.+0.j 1.+0.j 1.+0.j 1.+0.j]\n",
            " [1.+0.j 1.+0.j 1.+0.j 1.+0.j]\n",
            " [1.+0.j 1.+0.j 1.+0.j 1.+0.j]]\n"
          ]
        }
      ]
    },
    {
      "cell_type": "code",
      "source": [
        "a=np.full([4,4],4,dtype=complex)\n",
        "print(a)"
      ],
      "metadata": {
        "colab": {
          "base_uri": "https://localhost:8080/"
        },
        "id": "ZX40CNVCLNzP",
        "outputId": "926bddd5-4c70-4db4-be25-479d5447d24f"
      },
      "execution_count": null,
      "outputs": [
        {
          "output_type": "stream",
          "name": "stdout",
          "text": [
            "[[4.+0.j 4.+0.j 4.+0.j 4.+0.j]\n",
            " [4.+0.j 4.+0.j 4.+0.j 4.+0.j]\n",
            " [4.+0.j 4.+0.j 4.+0.j 4.+0.j]\n",
            " [4.+0.j 4.+0.j 4.+0.j 4.+0.j]]\n"
          ]
        }
      ]
    },
    {
      "cell_type": "code",
      "source": [
        "a=np.array([[1+2j,4+5j,2+1j],[3+3j,6+3j,7+2j]])\n",
        "print(a)\n",
        "print(a.ndim)\n",
        "print(a)"
      ],
      "metadata": {
        "colab": {
          "base_uri": "https://localhost:8080/"
        },
        "id": "iHruPrA9MN-2",
        "outputId": "35060cda-93e8-40a8-e77a-6b65d3303a1b"
      },
      "execution_count": null,
      "outputs": [
        {
          "output_type": "stream",
          "name": "stdout",
          "text": [
            "[[1.+2.j 4.+5.j 2.+1.j]\n",
            " [3.+3.j 6.+3.j 7.+2.j]]\n",
            "2\n"
          ]
        }
      ]
    },
    {
      "cell_type": "markdown",
      "source": [
        "##Random numbers\n",
        "Random decimal numbers"
      ],
      "metadata": {
        "id": "8QYxliB7ei99"
      }
    },
    {
      "cell_type": "code",
      "source": [
        "import numpy as np\n",
        "np.random.rand(4,2 )"
      ],
      "metadata": {
        "id": "8p32KrYpem_k",
        "colab": {
          "base_uri": "https://localhost:8080/"
        },
        "outputId": "34f5b20e-eb15-4136-f512-02247a86ba82"
      },
      "execution_count": null,
      "outputs": [
        {
          "output_type": "execute_result",
          "data": {
            "text/plain": [
              "array([[0.79154473, 0.01709283],\n",
              "       [0.7913197 , 0.20975145],\n",
              "       [0.05148344, 0.81939158],\n",
              "       [0.84075376, 0.76338417]])"
            ]
          },
          "metadata": {},
          "execution_count": 1
        }
      ]
    },
    {
      "cell_type": "code",
      "source": [
        "np.random.randint(-4,8, size=(3,3))"
      ],
      "metadata": {
        "colab": {
          "base_uri": "https://localhost:8080/"
        },
        "id": "yec9JBlMg2WF",
        "outputId": "5960dca9-ebb6-4343-84c1-991e5110137b"
      },
      "execution_count": null,
      "outputs": [
        {
          "output_type": "execute_result",
          "data": {
            "text/plain": [
              "array([[-3,  3, -1],\n",
              "       [ 1,  3,  1],\n",
              "       [-4,  6,  0]])"
            ]
          },
          "metadata": {},
          "execution_count": 3
        }
      ]
    },
    {
      "cell_type": "markdown",
      "source": [
        "##Repeat an array"
      ],
      "metadata": {
        "id": "fsaUvP9zsArd"
      }
    },
    {
      "cell_type": "code",
      "source": [
        "arr = np.array([1,2,3]) #1dimensional\n",
        "r1 = np.repeat(arr,3, axis=0)\n",
        "print(r1)"
      ],
      "metadata": {
        "colab": {
          "base_uri": "https://localhost:8080/"
        },
        "id": "SlESN_DTsC7n",
        "outputId": "b4f99a38-780f-45d5-b835-f235237c2de8"
      },
      "execution_count": null,
      "outputs": [
        {
          "output_type": "stream",
          "name": "stdout",
          "text": [
            "[1 1 1 2 2 2 3 3 3]\n"
          ]
        }
      ]
    },
    {
      "cell_type": "code",
      "source": [
        "arr= np.array([[1,2,3]]) #2 dimensional\n",
        "r1 = np.repeat(arr,3, axis=1) #in column wise\n",
        "print(r1)\n",
        "r1= np.repeat(arr,3, axis=0) #in row wise \n",
        "print(r1)"
      ],
      "metadata": {
        "colab": {
          "base_uri": "https://localhost:8080/"
        },
        "id": "tkaQC3ZovAPi",
        "outputId": "110b2961-8c33-4fa0-91ba-4c641629576e"
      },
      "execution_count": null,
      "outputs": [
        {
          "output_type": "stream",
          "name": "stdout",
          "text": [
            "[[1 1 1 2 2 2 3 3 3]]\n"
          ]
        }
      ]
    },
    {
      "cell_type": "markdown",
      "source": [
        "#Reshaping  01/11/2022\n",
        "3*4 matrix can be reshaped into 4*3 matrix\n",
        "\n",
        "it is not possible to 5*2\n"
      ],
      "metadata": {
        "id": "_OcIequpH0Zc"
      }
    },
    {
      "cell_type": "code",
      "source": [
        "import numpy as np\n",
        "a=np.array([[1,2,3],[1,2,3],[1,2,3],[1,2,3]])\n",
        "print(a)\n",
        "print(a.shape)\n",
        "b=a.reshape([3,4])\n",
        "print(b)\n",
        "print(b.shape)"
      ],
      "metadata": {
        "colab": {
          "base_uri": "https://localhost:8080/"
        },
        "id": "QSvufkuGF9uq",
        "outputId": "8a1cc02b-4be5-4515-8758-b6926dbdf838"
      },
      "execution_count": null,
      "outputs": [
        {
          "output_type": "stream",
          "name": "stdout",
          "text": [
            "[[1 2 3]\n",
            " [1 2 3]\n",
            " [1 2 3]\n",
            " [1 2 3]]\n",
            "(4, 3)\n",
            "[[1 2 3 1]\n",
            " [2 3 1 2]\n",
            " [3 1 2 3]]\n",
            "(3, 4)\n"
          ]
        }
      ]
    },
    {
      "cell_type": "code",
      "source": [
        "a=np.array([[1,3,5,7,9],[2,4,6,8,10],[3,5,10,15,18],[4,6,7,8,9]])\n",
        "print(a.shape)\n",
        "print(a)\n",
        "print('*'*100)\n",
        "b=a.reshape([5,4])\n",
        "print(b)\n",
        "print('*'*100)\n",
        "c=a.reshape([2,10])\n",
        "print(c)\n",
        "print('*'*100)\n",
        "d=a.reshape([20])\n",
        "print(d)\n",
        "print(b.ndim)"
      ],
      "metadata": {
        "colab": {
          "base_uri": "https://localhost:8080/"
        },
        "id": "RxoClF9PIUz_",
        "outputId": "b59a4d27-962a-447f-bccd-5f894d7766c3"
      },
      "execution_count": null,
      "outputs": [
        {
          "output_type": "stream",
          "name": "stdout",
          "text": [
            "(4, 5)\n",
            "[[ 1  3  5  7  9]\n",
            " [ 2  4  6  8 10]\n",
            " [ 3  5 10 15 18]\n",
            " [ 4  6  7  8  9]]\n",
            "****************************************************************************************************\n",
            "[[ 1  3  5  7]\n",
            " [ 9  2  4  6]\n",
            " [ 8 10  3  5]\n",
            " [10 15 18  4]\n",
            " [ 6  7  8  9]]\n",
            "****************************************************************************************************\n",
            "[[ 1  3  5  7  9  2  4  6  8 10]\n",
            " [ 3  5 10 15 18  4  6  7  8  9]]\n",
            "****************************************************************************************************\n",
            "[ 1  3  5  7  9  2  4  6  8 10  3  5 10 15 18  4  6  7  8  9]\n",
            "2\n"
          ]
        }
      ]
    },
    {
      "cell_type": "markdown",
      "source": [
        "#Flatten\n",
        "for Reshaping into 1 dimensional matrix only converts into 1 dimensional"
      ],
      "metadata": {
        "id": "iR0WjUTuLUYx"
      }
    },
    {
      "cell_type": "code",
      "source": [
        "\n",
        "a=np.array([[1,2,3,4],[2,3,4,5],[3,4,5,6],[4,5,6,7]])\n",
        "print(a)\n",
        "print('*'*100)\n",
        "b=a.flatten()\n",
        "print(b)"
      ],
      "metadata": {
        "colab": {
          "base_uri": "https://localhost:8080/"
        },
        "id": "98NSfw3RKpHS",
        "outputId": "9957bf80-4a86-444b-ae20-57e6e4b919e8"
      },
      "execution_count": null,
      "outputs": [
        {
          "output_type": "stream",
          "name": "stdout",
          "text": [
            "[[1 2 3 4]\n",
            " [2 3 4 5]\n",
            " [3 4 5 6]\n",
            " [4 5 6 7]]\n",
            "****************************************************************************************************\n",
            "[1 2 3 4 2 3 4 5 3 4 5 6 4 5 6 7]\n"
          ]
        }
      ]
    },
    {
      "cell_type": "markdown",
      "source": [
        "#Arange (a-range)\n"
      ],
      "metadata": {
        "id": "2d9mfI8RMFvh"
      }
    },
    {
      "cell_type": "code",
      "source": [
        "import numpy as np\n",
        "a=np.arange(1,10)  #range(1,10)  (start,stop)\n",
        "print(a)\n",
        "a=np.arange(11,51)\n",
        "print(a)\n"
      ],
      "metadata": {
        "colab": {
          "base_uri": "https://localhost:8080/"
        },
        "id": "keHXDLC9NM-D",
        "outputId": "0f389ed3-2b54-458f-bf1a-bdef988e6fa6"
      },
      "execution_count": null,
      "outputs": [
        {
          "output_type": "stream",
          "name": "stdout",
          "text": [
            "[1 2 3 4 5 6 7 8 9]\n",
            "[11 12 13 14 15 16 17 18 19 20 21 22 23 24 25 26 27 28 29 30 31 32 33 34\n",
            " 35 36 37 38 39 40 41 42 43 44 45 46 47 48 49 50]\n"
          ]
        }
      ]
    },
    {
      "cell_type": "code",
      "source": [
        "#1 to 20 element 5*4\n",
        "a=np.arange(1,21)\n",
        "print(a)\n",
        "b=a.reshape([5,4])\n",
        "print(b)\n",
        "print('*'*100)\n",
        "a=np.arange(1,21).reshape([5,4])\n",
        "print(a)"
      ],
      "metadata": {
        "colab": {
          "base_uri": "https://localhost:8080/"
        },
        "id": "xCoetgyfN7ML",
        "outputId": "482e70da-341e-4d3a-f2c7-e5741044ec0e"
      },
      "execution_count": null,
      "outputs": [
        {
          "output_type": "stream",
          "name": "stdout",
          "text": [
            "[ 1  2  3  4  5  6  7  8  9 10 11 12 13 14 15 16 17 18 19 20]\n",
            "[[ 1  2  3  4]\n",
            " [ 5  6  7  8]\n",
            " [ 9 10 11 12]\n",
            " [13 14 15 16]\n",
            " [17 18 19 20]]\n",
            "****************************************************************************************************\n",
            "[[ 1  2  3  4]\n",
            " [ 5  6  7  8]\n",
            " [ 9 10 11 12]\n",
            " [13 14 15 16]\n",
            " [17 18 19 20]]\n"
          ]
        }
      ]
    },
    {
      "cell_type": "code",
      "source": [
        "a=np.arange(10)\n",
        "print(a)\n",
        "print('*'*100)\n",
        "a=np.arange(10,40,2)\n",
        "print(a)\n",
        "print('*'*100)\n",
        "a=np.arange(30,9,-1)   #30 to 10\n",
        "print(a)"
      ],
      "metadata": {
        "colab": {
          "base_uri": "https://localhost:8080/"
        },
        "id": "-59jF9O9PEui",
        "outputId": "b5684967-99a6-4171-9653-6f3e5da687e1"
      },
      "execution_count": null,
      "outputs": [
        {
          "output_type": "stream",
          "name": "stdout",
          "text": [
            "[0 1 2 3 4 5 6 7 8 9]\n",
            "****************************************************************************************************\n",
            "[10 12 14 16 18 20 22 24 26 28 30 32 34 36 38]\n",
            "****************************************************************************************************\n",
            "[30 29 28 27 26 25 24 23 22 21 20 19 18 17 16 15 14 13 12 11 10]\n"
          ]
        }
      ]
    },
    {
      "cell_type": "markdown",
      "source": [
        "[10,15,20,....50] [3*3]"
      ],
      "metadata": {
        "id": "RJnI7i1bQhK3"
      }
    },
    {
      "cell_type": "code",
      "source": [
        "a=np.arange(10,51,5).reshape([3,3])\n",
        "print(a)"
      ],
      "metadata": {
        "colab": {
          "base_uri": "https://localhost:8080/"
        },
        "id": "XP2iEcCSQgg5",
        "outputId": "e6057191-bcc5-4820-b32e-1d500984de8f"
      },
      "execution_count": null,
      "outputs": [
        {
          "output_type": "stream",
          "name": "stdout",
          "text": [
            "[[10 15 20]\n",
            " [25 30 35]\n",
            " [40 45 50]]\n"
          ]
        }
      ]
    },
    {
      "cell_type": "markdown",
      "source": [
        "#Linspace"
      ],
      "metadata": {
        "id": "f5b3jS-nRauZ"
      }
    },
    {
      "cell_type": "code",
      "source": [
        "import numpy as np\n",
        "a=np.linspace(5,50,10)\n",
        "print(a)\n",
        "a=np.linspace(10,100,5)\n",
        "print(a)"
      ],
      "metadata": {
        "colab": {
          "base_uri": "https://localhost:8080/"
        },
        "id": "Hwc4lnq8Rp_F",
        "outputId": "d05384bc-b554-45b9-d74c-7834217f0699"
      },
      "execution_count": null,
      "outputs": [
        {
          "output_type": "stream",
          "name": "stdout",
          "text": [
            "[ 5. 10. 15. 20. 25. 30. 35. 40. 45. 50.]\n",
            "[ 10.   32.5  55.   77.5 100. ]\n"
          ]
        }
      ]
    },
    {
      "cell_type": "markdown",
      "source": [],
      "metadata": {
        "id": "fMOmGu5tTqwz"
      }
    },
    {
      "cell_type": "code",
      "source": [
        "import numpy as np\n",
        "a=np.arange(1,11)\n",
        "print(a)\n",
        "print(a[2])\n",
        "print(a[7])\n",
        "print(a[3:6])   #Index 3 4 5\n",
        "print(a[2:6])\n",
        "print(a[5:])    #5 to end of the list\n",
        "print(a[:8])   #Index =0to 7\n",
        "print(a[:3])\n",
        "print(a[:])\n",
        "print(a[3:9:3])  #index=3,6\n",
        "print(a[2::3])  #index=2,5,8\n",
        "print(a[::2]) #0,2,4,6,8\n",
        "print(a[:8:2]) #0,2,4,6"
      ],
      "metadata": {
        "id": "XWDw2RuhTmt3",
        "colab": {
          "base_uri": "https://localhost:8080/"
        },
        "outputId": "7788b541-176b-4742-f8e1-5f5064adbcff"
      },
      "execution_count": null,
      "outputs": [
        {
          "output_type": "stream",
          "name": "stdout",
          "text": [
            "[ 1  2  3  4  5  6  7  8  9 10]\n",
            "3\n",
            "8\n",
            "[4 5 6]\n",
            "[3 4 5 6]\n",
            "[ 6  7  8  9 10]\n",
            "[1 2 3 4 5 6 7 8]\n",
            "[1 2 3]\n",
            "[ 1  2  3  4  5  6  7  8  9 10]\n",
            "[4 7]\n",
            "[3 6 9]\n",
            "[1 3 5 7 9]\n",
            "[1 3 5 7]\n"
          ]
        }
      ]
    },
    {
      "cell_type": "markdown",
      "source": [
        "02/11/2022 \n",
        "#2D SLICING"
      ],
      "metadata": {
        "id": "jKkncnH-NmVN"
      }
    },
    {
      "cell_type": "code",
      "source": [
        "import numpy as np\n",
        "a=np.array([[1,2,3,4,5],[2,3,4,5,6],[3,4,5,6,7],[4,5,6,7,8]])\n",
        "print(a)"
      ],
      "metadata": {
        "colab": {
          "base_uri": "https://localhost:8080/"
        },
        "id": "uF9LUL_VNPNM",
        "outputId": "5a3d29ce-f455-4349-d4b2-4223ae5d5eb7"
      },
      "execution_count": null,
      "outputs": [
        {
          "output_type": "stream",
          "name": "stdout",
          "text": [
            "[[1 2 3 4 5]\n",
            " [2 3 4 5 6]\n",
            " [3 4 5 6 7]\n",
            " [4 5 6 7 8]]\n"
          ]
        }
      ]
    },
    {
      "cell_type": "markdown",
      "source": [
        "in 2D [row,columns]  OOPS list problem(21\n",
        "\n",
        " 0  1  2  3  4\n",
        "\n",
        "[[1 2 3 4 5] 0\n",
        "\n",
        " [2 3 4 5 6] 1\n",
        "\n",
        " [3 4 5 6 7] 2\n",
        "\n",
        " [4 5 6 7 8]] 3 "
      ],
      "metadata": {
        "id": "s60-aETYOGUC"
      }
    },
    {
      "cell_type": "code",
      "source": [
        "print(a[:2,:3])"
      ],
      "metadata": {
        "colab": {
          "base_uri": "https://localhost:8080/"
        },
        "id": "UHHyrJCsN-Lj",
        "outputId": "e7351db7-c712-437c-b821-7116393be59a"
      },
      "execution_count": null,
      "outputs": [
        {
          "output_type": "stream",
          "name": "stdout",
          "text": [
            "[[1 2 3]\n",
            " [2 3 4]]\n"
          ]
        }
      ]
    },
    {
      "cell_type": "code",
      "source": [
        "print(a[:3,:4])\n"
      ],
      "metadata": {
        "colab": {
          "base_uri": "https://localhost:8080/"
        },
        "id": "hsoKwUc3QyjT",
        "outputId": "8bef9dc7-b4cd-4263-9aaa-df53cba6a976"
      },
      "execution_count": null,
      "outputs": [
        {
          "output_type": "stream",
          "name": "stdout",
          "text": [
            "[[1 2 3 4]\n",
            " [2 3 4 5]\n",
            " [3 4 5 6]]\n"
          ]
        }
      ]
    },
    {
      "cell_type": "code",
      "source": [
        "print(a[:4,1:4])"
      ],
      "metadata": {
        "colab": {
          "base_uri": "https://localhost:8080/"
        },
        "id": "LWraLaTXRlKx",
        "outputId": "a42b1876-e22a-49b9-adef-b7ecb87427f3"
      },
      "execution_count": null,
      "outputs": [
        {
          "output_type": "stream",
          "name": "stdout",
          "text": [
            "[[2 3 4]\n",
            " [3 4 5]\n",
            " [4 5 6]\n",
            " [5 6 7]]\n"
          ]
        }
      ]
    },
    {
      "cell_type": "code",
      "source": [
        "print(a[1:3,2:5])  #columns:2,3,4"
      ],
      "metadata": {
        "colab": {
          "base_uri": "https://localhost:8080/"
        },
        "id": "p-U9TPSkSjqq",
        "outputId": "a272fb50-6703-46d6-9e92-746f13c33b4c"
      },
      "execution_count": null,
      "outputs": [
        {
          "output_type": "stream",
          "name": "stdout",
          "text": [
            "[[4 5 6]\n",
            " [5 6 7]]\n"
          ]
        }
      ]
    },
    {
      "cell_type": "code",
      "source": [
        "print(a[2:,1:]) #row 2,3 #columns 1,2,3,4"
      ],
      "metadata": {
        "colab": {
          "base_uri": "https://localhost:8080/"
        },
        "id": "KmNfjU6ASuWz",
        "outputId": "b701e397-ba3f-48c1-ea95-7685f19efa88"
      },
      "execution_count": null,
      "outputs": [
        {
          "output_type": "stream",
          "name": "stdout",
          "text": [
            "[[4 5 6 7]\n",
            " [5 6 7 8]]\n"
          ]
        }
      ]
    },
    {
      "cell_type": "code",
      "source": [
        "print(a[1:4:2,1:5])  #row 1,3 column 1,2,3,4"
      ],
      "metadata": {
        "colab": {
          "base_uri": "https://localhost:8080/"
        },
        "id": "8lrn12GCTV6f",
        "outputId": "b4892562-7f0d-47da-cf11-5e08055177d8"
      },
      "execution_count": null,
      "outputs": [
        {
          "output_type": "stream",
          "name": "stdout",
          "text": [
            "[[3 4 5 6]\n",
            " [5 6 7 8]]\n"
          ]
        }
      ]
    },
    {
      "cell_type": "code",
      "source": [
        "b=np.array([[3,4,5,1,9],[3,9,6,5,3],[6,5,4,3,2],[5,9,8,7,6]])\n",
        "print(b[:,:3]) #full rows 0,1,2\n",
        "print(b[:,1:3]) #full rows 1,2\n",
        "print(b[:2,:]) #0,1 row  and full columns\n",
        "print(b[1:3,:]) #1,2 rows and full columns"
      ],
      "metadata": {
        "colab": {
          "base_uri": "https://localhost:8080/"
        },
        "id": "cIj8uGmwUQJn",
        "outputId": "309e1587-86ab-4be8-a31c-e8b13bc651c1"
      },
      "execution_count": null,
      "outputs": [
        {
          "output_type": "stream",
          "name": "stdout",
          "text": [
            "[[3 4 5]\n",
            " [3 9 6]\n",
            " [6 5 4]\n",
            " [5 9 8]]\n",
            "[[4 5]\n",
            " [9 6]\n",
            " [5 4]\n",
            " [9 8]]\n",
            "[[3 4 5 1 9]\n",
            " [3 9 6 5 3]]\n",
            "[[3 9 6 5 3]\n",
            " [6 5 4 3 2]]\n"
          ]
        }
      ]
    },
    {
      "cell_type": "markdown",
      "source": [
        "zeroth row of data\n",
        "\n",
        "zeroth column of data"
      ],
      "metadata": {
        "id": "yf2EFJv8V3B9"
      }
    },
    {
      "cell_type": "code",
      "source": [
        "print(b[0,:])\n",
        "print(b[:,0])"
      ],
      "metadata": {
        "colab": {
          "base_uri": "https://localhost:8080/"
        },
        "id": "IgnpO9YpVzCW",
        "outputId": "f5e28820-feea-4c11-a27f-f88f58d17529"
      },
      "execution_count": null,
      "outputs": [
        {
          "output_type": "stream",
          "name": "stdout",
          "text": [
            "[3 4 5 1 9]\n",
            "[3 3 6 5]\n"
          ]
        }
      ]
    },
    {
      "cell_type": "markdown",
      "source": [
        "zeroth 0,2 and 1,3\n",
        "\n",
        "full rows,2:4\n",
        "\n",
        "complete row and columns"
      ],
      "metadata": {
        "id": "529vpH_PXMyQ"
      }
    },
    {
      "cell_type": "code",
      "source": [
        "print(b[0:3:2,1:4:2])\n",
        " print(b[:,2:5:2])\n",
        "print(b[:,:])"
      ],
      "metadata": {
        "colab": {
          "base_uri": "https://localhost:8080/"
        },
        "id": "LX4yvLI0XQD5",
        "outputId": "6d9167ca-195d-4290-92ab-0496754c614a"
      },
      "execution_count": null,
      "outputs": [
        {
          "output_type": "stream",
          "name": "stdout",
          "text": [
            "[[4 1]\n",
            " [5 3]]\n",
            "[[5 9]\n",
            " [6 3]\n",
            " [4 2]\n",
            " [8 6]]\n",
            "[[3 4 5 1 9]\n",
            " [3 9 6 5 3]\n",
            " [6 5 4 3 2]\n",
            " [5 9 8 7 6]]\n"
          ]
        }
      ]
    },
    {
      "cell_type": "markdown",
      "source": [
        "##Indexing"
      ],
      "metadata": {
        "id": "88Q7trqRg1Vk"
      }
    },
    {
      "cell_type": "code",
      "source": [
        "import numpy as np\n",
        "a = np.array([[1,2,3,4,5,6,7],[8,9,10,11,12,13,14]])\n",
        "print(a)\n",
        "print('*'*100)\n",
        "print(a[1,5])\n",
        "print(a[1,-2]) #get a specific element\n",
        "print('*'*100)\n",
        "print(a[0,:])\n",
        "print('*'*100)\n",
        "print(a[0,1:-1:2])\n",
        "print('*'*100)\n",
        "print(''*100) \n",
        "a[1,5]=20\n",
        "print(a )\n",
        "print('*'*100)\n",
        "\n",
        "a[:,2] = [1,2]\n",
        "print(a)\n",
        "print('*'*100)\n",
        "print('*'*100)\n",
        "print('*'*100) \n",
        "#3d array\n",
        "b=np.array([[[1,2],[3,4]],[[5,6],[7,8]]])\n",
        "print(b)\n",
        "print('*'*100)\n",
        "print(b[0,1,1])\n",
        "print('*'*100)\n",
        "print(b[:,1,:])\n",
        "print('*'*100)\n",
        "b[:,1,:] = [[9,9],[8,8]]\n",
        "print(b)"
      ],
      "metadata": {
        "colab": {
          "base_uri": "https://localhost:8080/"
        },
        "id": "mOHjuRyJJmtZ",
        "outputId": "89fdfc91-c79b-451b-b818-2c5eff33ca89"
      },
      "execution_count": null,
      "outputs": [
        {
          "output_type": "stream",
          "name": "stdout",
          "text": [
            "[[ 1  2  3  4  5  6  7]\n",
            " [ 8  9 10 11 12 13 14]]\n",
            "****************************************************************************************************\n",
            "13\n",
            "13\n",
            "****************************************************************************************************\n",
            "[1 2 3 4 5 6 7]\n",
            "****************************************************************************************************\n",
            "[2 4 6]\n",
            "****************************************************************************************************\n",
            "\n",
            "[[ 1  2  3  4  5  6  7]\n",
            " [ 8  9 10 11 12 20 14]]\n",
            "****************************************************************************************************\n",
            "[[ 1  2  1  4  5  6  7]\n",
            " [ 8  9  2 11 12 20 14]]\n",
            "****************************************************************************************************\n",
            "****************************************************************************************************\n",
            "****************************************************************************************************\n",
            "[[[1 2]\n",
            "  [3 4]]\n",
            "\n",
            " [[5 6]\n",
            "  [7 8]]]\n",
            "****************************************************************************************************\n",
            "4\n",
            "****************************************************************************************************\n",
            "[[3 4]\n",
            " [7 8]]\n",
            "****************************************************************************************************\n",
            "[[[1 2]\n",
            "  [9 9]]\n",
            "\n",
            " [[5 6]\n",
            "  [8 8]]]\n"
          ]
        }
      ]
    },
    {
      "cell_type": "markdown",
      "source": [
        "#Mathematical operations\n",
        "\n",
        "#Dot product\n",
        "\n",
        "order should be same\n",
        "operations perform between elements"
      ],
      "metadata": {
        "id": "E1utNp_hYH-p"
      }
    },
    {
      "cell_type": "code",
      "source": [
        "import numpy as np\n",
        "a=np.array([[1,2,3],[2,3,4],[3,4,5]])\n",
        "b=np.array([[3,4,5],[4,5,6],[5,6,7]])\n",
        "print(a)\n",
        "print(b)"
      ],
      "metadata": {
        "colab": {
          "base_uri": "https://localhost:8080/"
        },
        "id": "Kt3X0xKLYK9g",
        "outputId": "a77aa829-db33-4e45-a242-b48eda656b4d"
      },
      "execution_count": null,
      "outputs": [
        {
          "output_type": "stream",
          "name": "stdout",
          "text": [
            "[[1 2 3]\n",
            " [2 3 4]\n",
            " [3 4 5]]\n",
            "[[3 4 5]\n",
            " [4 5 6]\n",
            " [5 6 7]]\n"
          ]
        }
      ]
    },
    {
      "cell_type": "markdown",
      "source": [],
      "metadata": {
        "id": "WZwltwrPZEGu"
      }
    },
    {
      "cell_type": "code",
      "source": [
        "c=np.add(a,b)\n",
        "print(c)\n",
        "c=np.subtract(a,b)\n",
        "print(c)\n",
        "c=np.multiply(a,b)\n",
        "print(c)\n",
        "c=np.divide(a,b)\n",
        "print(c)"
      ],
      "metadata": {
        "colab": {
          "base_uri": "https://localhost:8080/"
        },
        "id": "ZCYIWiD5ZB--",
        "outputId": "b0a6eb3e-ab58-4cef-8bf7-c568a86c2f17"
      },
      "execution_count": null,
      "outputs": [
        {
          "output_type": "stream",
          "name": "stdout",
          "text": [
            "[[ 4  6  8]\n",
            " [ 6  8 10]\n",
            " [ 8 10 12]]\n",
            "[[-2 -2 -2]\n",
            " [-2 -2 -2]\n",
            " [-2 -2 -2]]\n",
            "[[ 3  8 15]\n",
            " [ 8 15 24]\n",
            " [15 24 35]]\n",
            "[[0.33333333 0.5        0.6       ]\n",
            " [0.5        0.6        0.66666667]\n",
            " [0.6        0.66666667 0.71428571]]\n"
          ]
        }
      ]
    },
    {
      "cell_type": "code",
      "source": [
        "import numpy as np\n",
        "a=np.array([[1,2,3],[2,3,4],[3,4,5]])\n",
        "b=np.array([[3,4,5],[4,5,6],[5,6,7]])\n",
        "c=np.multiply(a,b)\n",
        "print(c)\n",
        "#square\n",
        "c=np.square(a) #square\n",
        "print(c)\n",
        "c=np.sqrt(a)  #square root\n",
        "print(c)\n",
        "np.cos(a)"
      ],
      "metadata": {
        "colab": {
          "base_uri": "https://localhost:8080/"
        },
        "id": "IEb12340QMWY",
        "outputId": "2efd248a-8c2f-4ed8-be06-c03592bb1fb7"
      },
      "execution_count": null,
      "outputs": [
        {
          "output_type": "stream",
          "name": "stdout",
          "text": [
            "[[ 3  8 15]\n",
            " [ 8 15 24]\n",
            " [15 24 35]]\n",
            "[[ 1  4  9]\n",
            " [ 4  9 16]\n",
            " [ 9 16 25]]\n",
            "[[1.         1.41421356 1.73205081]\n",
            " [1.41421356 1.73205081 2.        ]\n",
            " [1.73205081 2.         2.23606798]]\n"
          ]
        },
        {
          "output_type": "execute_result",
          "data": {
            "text/plain": [
              "array([[ 0.54030231, -0.41614684, -0.9899925 ],\n",
              "       [-0.41614684, -0.9899925 , -0.65364362],\n",
              "       [-0.9899925 , -0.65364362,  0.28366219]])"
            ]
          },
          "metadata": {},
          "execution_count": 6
        }
      ]
    },
    {
      "cell_type": "markdown",
      "source": [
        "#Dot product"
      ],
      "metadata": {
        "id": "EGWzwh5tUGj0"
      }
    },
    {
      "cell_type": "code",
      "source": [
        "a=np.array([2,3,4])\n",
        "b=np.array([4,5,6])\n",
        "print(a)\n",
        "print(b)\n",
        "c=np.dot(a,b)\n",
        "print(c)"
      ],
      "metadata": {
        "colab": {
          "base_uri": "https://localhost:8080/"
        },
        "id": "Nb7HVhiOUgX0",
        "outputId": "1968283a-248b-4953-bfc3-da20e8bfbb69"
      },
      "execution_count": null,
      "outputs": [
        {
          "output_type": "stream",
          "name": "stdout",
          "text": [
            "[2 3 4]\n",
            "[4 5 6]\n",
            "47\n"
          ]
        }
      ]
    },
    {
      "cell_type": "code",
      "source": [
        "a=np.array([[3,4,5],[4,5,6],[3,1,3]])\n",
        "b=np.array([[5,6,7],[4,2,1],[4,5,2]])\n",
        "c=np.dot(a,b)\n",
        "print(c)"
      ],
      "metadata": {
        "colab": {
          "base_uri": "https://localhost:8080/"
        },
        "id": "jtPq2sk0psIY",
        "outputId": "1a0f97e6-cba0-4253-c4d3-abf2ff9a1842"
      },
      "execution_count": null,
      "outputs": [
        {
          "output_type": "stream",
          "name": "stdout",
          "text": [
            "[[51 51 35]\n",
            " [64 64 45]\n",
            " [31 35 28]]\n"
          ]
        }
      ]
    },
    {
      "cell_type": "markdown",
      "source": [],
      "metadata": {
        "id": "axRyIw0wD4Uq"
      }
    },
    {
      "cell_type": "markdown",
      "source": [
        "#ROUND 03/11/22\n",
        "\n",
        "#Floor division \n",
        "to discard the decimal part\n",
        "(lowest integer)"
      ],
      "metadata": {
        "id": "vhkq1tUuXMAR"
      }
    },
    {
      "cell_type": "code",
      "source": [
        "a=np.array([[1.2,2.5,3.1,4.5],[3.2,4.3,5.5,6.6],[4.4,5.1,6.2,7.3],[5.2,6.2,7.3,8.1]])\n",
        "print(a)\n",
        "b=np.floor(a)\n",
        "print(b)\n"
      ],
      "metadata": {
        "colab": {
          "base_uri": "https://localhost:8080/"
        },
        "id": "Fpgw0nktXUHf",
        "outputId": "cb2c9f6a-888b-4a4f-ecef-25defb104403"
      },
      "execution_count": null,
      "outputs": [
        {
          "output_type": "stream",
          "name": "stdout",
          "text": [
            "[[1.2 2.5 3.1 4.5]\n",
            " [3.2 4.3 5.5 6.6]\n",
            " [4.4 5.1 6.2 7.3]\n",
            " [5.2 6.2 7.3 8.1]]\n",
            "[[1. 2. 3. 4.]\n",
            " [3. 4. 5. 6.]\n",
            " [4. 5. 6. 7.]\n",
            " [5. 6. 7. 8.]]\n"
          ]
        }
      ]
    },
    {
      "cell_type": "markdown",
      "source": [
        "#Ceil function\n",
        "\n",
        "converts a number to highest integer"
      ],
      "metadata": {
        "id": "2K6GvOctZdUH"
      }
    },
    {
      "cell_type": "code",
      "source": [
        "b=np.ceil(a)\n",
        "print(b)\n"
      ],
      "metadata": {
        "colab": {
          "base_uri": "https://localhost:8080/"
        },
        "id": "UItSLKHvZk9d",
        "outputId": "9e1485f1-13ca-41f0-ff41-8e89d8d040ef"
      },
      "execution_count": null,
      "outputs": [
        {
          "output_type": "stream",
          "name": "stdout",
          "text": [
            "[[2. 3. 4. 5.]\n",
            " [4. 5. 6. 7.]\n",
            " [5. 6. 7. 8.]\n",
            " [6. 7. 8. 9.]]\n"
          ]
        }
      ]
    },
    {
      "cell_type": "markdown",
      "source": [
        "#Round\n",
        "if odd no comes in 0.5 it converts to highest value \n",
        "\n",
        "eg 2.5==2\n",
        "\n",
        " 5.5==6\n"
      ],
      "metadata": {
        "id": "V0yzYBiraxUZ"
      }
    },
    {
      "cell_type": "code",
      "source": [
        "b=np.round(a)\n",
        "print(b)"
      ],
      "metadata": {
        "colab": {
          "base_uri": "https://localhost:8080/"
        },
        "id": "g4ArFMqJazZQ",
        "outputId": "cbe5d265-2f3f-4501-a0e5-180628003668"
      },
      "execution_count": null,
      "outputs": [
        {
          "output_type": "stream",
          "name": "stdout",
          "text": [
            "[[1. 2. 3. 4.]\n",
            " [3. 4. 6. 7.]\n",
            " [4. 5. 6. 7.]\n",
            " [5. 6. 7. 8.]]\n"
          ]
        }
      ]
    },
    {
      "cell_type": "markdown",
      "source": [
        "#Sort"
      ],
      "metadata": {
        "id": "qqfD2Ok6c7uq"
      }
    },
    {
      "cell_type": "code",
      "source": [
        "a=np.array([1,5,6,2,3,4])\n",
        "print(a)"
      ],
      "metadata": {
        "colab": {
          "base_uri": "https://localhost:8080/"
        },
        "id": "CuWJ_-flc-Oy",
        "outputId": "7aa92bfe-55d3-4016-e39e-25d9d5ca6ed6"
      },
      "execution_count": null,
      "outputs": [
        {
          "output_type": "stream",
          "name": "stdout",
          "text": [
            "[1 5 6 2 3 4]\n"
          ]
        }
      ]
    },
    {
      "cell_type": "markdown",
      "source": [
        "TO calculate total sum of a matrix\n",
        "sum function is used"
      ],
      "metadata": {
        "id": "USdaGY4bdzY0"
      }
    },
    {
      "cell_type": "code",
      "source": [
        "b=np.sum(a)\n",
        "print(b)"
      ],
      "metadata": {
        "colab": {
          "base_uri": "https://localhost:8080/"
        },
        "id": "7CtwNockd56K",
        "outputId": "cdaec05c-6138-48c6-f100-5afeff8228c1"
      },
      "execution_count": null,
      "outputs": [
        {
          "output_type": "stream",
          "name": "stdout",
          "text": [
            "21\n"
          ]
        }
      ]
    },
    {
      "cell_type": "code",
      "source": [
        "a=np.array([[3,6,5,3],[5,6,7,3],[3,7,6,5],[7,8,9,2]])\n",
        "print(a)\n",
        "b=np.sum(a)\n",
        "print(b)\n",
        "#axis=0  column count\n",
        "b=np.sum(a,axis=0)\n",
        "print(b)\n",
        "#axis=1 row count\n",
        "b=np.sum(a,axis=1)\n",
        "print(b)"
      ],
      "metadata": {
        "colab": {
          "base_uri": "https://localhost:8080/"
        },
        "id": "qFbjPlvEeUp3",
        "outputId": "7d57febd-6f50-4f65-8d55-2f84c37ef1cc"
      },
      "execution_count": null,
      "outputs": [
        {
          "output_type": "stream",
          "name": "stdout",
          "text": [
            "[[3 6 5 3]\n",
            " [5 6 7 3]\n",
            " [3 7 6 5]\n",
            " [7 8 9 2]]\n",
            "85\n",
            "[18 27 27 13]\n",
            "[17 21 21 26]\n"
          ]
        }
      ]
    },
    {
      "cell_type": "markdown",
      "source": [],
      "metadata": {
        "id": "3fWAzxF2hm2A"
      }
    },
    {
      "cell_type": "code",
      "source": [
        "import numpy as np\n",
        "a=np.array([[3,4,5],[4,5,6]])\n",
        "b=np.array([[1,2],[2,3]])\n",
        "c=np.dot(b,a)\n",
        "print(c)"
      ],
      "metadata": {
        "colab": {
          "base_uri": "https://localhost:8080/"
        },
        "id": "p_jwCRneiLFL",
        "outputId": "13f1c0d6-7d67-4e9c-99e0-32ddf8e4cc2f"
      },
      "execution_count": null,
      "outputs": [
        {
          "output_type": "stream",
          "name": "stdout",
          "text": [
            "[[11 14 17]\n",
            " [18 23 28]]\n"
          ]
        }
      ]
    },
    {
      "cell_type": "markdown",
      "source": [
        "#Sort function\n"
      ],
      "metadata": {
        "id": "n4jQ6PdQi6Fe"
      }
    },
    {
      "cell_type": "code",
      "source": [
        "import numpy as np\n",
        "a=np.array([6,3,8,9,2,1,0,4,7,10,5])\n",
        "b=np.sort(a)\n",
        "print(b)\n",
        "#Sorts in ascending order\n"
      ],
      "metadata": {
        "colab": {
          "base_uri": "https://localhost:8080/"
        },
        "id": "mJ2dEdU6jbB5",
        "outputId": "5d529d91-16b0-47c9-bc63-3eb534e02808"
      },
      "execution_count": null,
      "outputs": [
        {
          "output_type": "stream",
          "name": "stdout",
          "text": [
            "[ 0  1  2  3  4  5  6  7  8  9 10]\n"
          ]
        }
      ]
    },
    {
      "cell_type": "markdown",
      "source": [
        "#Negative sorting\n"
      ],
      "metadata": {
        "id": "DN4FjIXNj2pl"
      }
    },
    {
      "cell_type": "code",
      "source": [
        "b=np.sort(a)[::-1]\n",
        "print(b)"
      ],
      "metadata": {
        "colab": {
          "base_uri": "https://localhost:8080/"
        },
        "id": "PNSKtbFOlYPw",
        "outputId": "1d3a5929-1e1b-4875-9ac5-f2d51fcd1a6a"
      },
      "execution_count": null,
      "outputs": [
        {
          "output_type": "stream",
          "name": "stdout",
          "text": [
            "[10  9  8  7  6  5  4  3  2  1  0]\n"
          ]
        }
      ]
    },
    {
      "cell_type": "markdown",
      "source": [
        "#2D sorting\n"
      ],
      "metadata": {
        "id": "6-OJFwtBmMW-"
      }
    },
    {
      "cell_type": "code",
      "source": [
        "import numpy as np\n",
        "a=np.array([[2,3,4,5],[9,8,5,6],[2,10,7,8],[16,17,8,9]])\n",
        "print(a)\n",
        "b=np.sort(a)\n",
        "print('*'*100)\n",
        "print(b)\n",
        "\n",
        "b=np.sort(a,axis=0) \n",
        "print('*'*100)\n",
        "print(b)\n",
        "print('*'*100)\n",
        "b=np.sort(a,axis=1) #Default row wise\n",
        "print(b)"
      ],
      "metadata": {
        "colab": {
          "base_uri": "https://localhost:8080/"
        },
        "id": "YWEBVEJqmPDb",
        "outputId": "60ca30fb-88df-4988-9e3f-1a0291d34dbe"
      },
      "execution_count": null,
      "outputs": [
        {
          "output_type": "stream",
          "name": "stdout",
          "text": [
            "[[ 2  3  4  5]\n",
            " [ 9  8  5  6]\n",
            " [ 2 10  7  8]\n",
            " [16 17  8  9]]\n",
            "****************************************************************************************************\n",
            "[[ 2  3  4  5]\n",
            " [ 5  6  8  9]\n",
            " [ 2  7  8 10]\n",
            " [ 8  9 16 17]]\n",
            "****************************************************************************************************\n",
            "[[ 2  3  4  5]\n",
            " [ 2  8  5  6]\n",
            " [ 9 10  7  8]\n",
            " [16 17  8  9]]\n",
            "****************************************************************************************************\n",
            "[[ 2  3  4  5]\n",
            " [ 5  6  8  9]\n",
            " [ 2  7  8 10]\n",
            " [ 8  9 16 17]]\n"
          ]
        }
      ]
    },
    {
      "cell_type": "code",
      "source": [
        "import numpy as np\n",
        "\n",
        "b=np.sort(a,axis=None)"
      ],
      "metadata": {
        "id": "toX-RVCYi7yM"
      },
      "execution_count": null,
      "outputs": []
    },
    {
      "cell_type": "markdown",
      "source": [
        "2D 3*4\n",
        "\n",
        "descending order\n",
        "\n",
        "row wise\n",
        "\n",
        "column wise"
      ],
      "metadata": {
        "id": "kErNFBNtjLlm"
      }
    },
    {
      "cell_type": "code",
      "source": [
        "import numpy as np\n",
        "a=np.array([[1,4,6,9],[6,5,2,9],[1,4,6,7]])\n",
        "print(a)\n",
        "print('*'*100)\n",
        "b=np.sort(a,axis=0)[::-1]\n",
        "print('2D slicing-')\n",
        "c=-np.sort(-a,axis=1)\n",
        "print('*'*100)\n",
        "print(b)\n",
        "print('*'*100)\n",
        "print(c)"
      ],
      "metadata": {
        "colab": {
          "base_uri": "https://localhost:8080/"
        },
        "id": "TigmG-zrjKe5",
        "outputId": "50146aa5-59de-4671-b582-e36f3199f158"
      },
      "execution_count": null,
      "outputs": [
        {
          "output_type": "stream",
          "name": "stdout",
          "text": [
            "[[1 4 6 9]\n",
            " [6 5 2 9]\n",
            " [1 4 6 7]]\n",
            "****************************************************************************************************\n",
            "2D slicing-\n",
            "****************************************************************************************************\n",
            "[[6 5 6 9]\n",
            " [1 4 6 9]\n",
            " [1 4 2 7]]\n",
            "****************************************************************************************************\n",
            "[[9 6 4 1]\n",
            " [9 6 5 2]\n",
            " [7 6 4 1]]\n"
          ]
        }
      ]
    },
    {
      "cell_type": "markdown",
      "source": [
        "#Arg sort\n",
        "Sort list index values print\n"
      ],
      "metadata": {
        "id": "TxtQJvOak4Ff"
      }
    },
    {
      "cell_type": "code",
      "source": [
        "import numpy as np\n",
        "a=np.array([5,8,2,1,9,15,11,13,7,6,8,4])\n",
        "b=np.argsort(a)\n",
        "print(list(a))\n",
        "print(b)"
      ],
      "metadata": {
        "colab": {
          "base_uri": "https://localhost:8080/"
        },
        "id": "O8ldyyT0mKgf",
        "outputId": "81ac969e-fca9-418a-87ca-f71c90750b76"
      },
      "execution_count": null,
      "outputs": [
        {
          "output_type": "stream",
          "name": "stdout",
          "text": [
            "[5, 8, 2, 1, 9, 15, 11, 13, 7, 6, 8, 4]\n",
            "[ 3  2 11  0  9  8  1 10  4  6  7  5]\n"
          ]
        }
      ]
    },
    {
      "cell_type": "code",
      "source": [
        "import numpy as np\n",
        "a=np.array([[4,6,3,2],[3,7,4,6],[8,8,2,1],[6,5,3,4],[9,0,8,5]])\n",
        "print(a)\n",
        "print('*'*100)\n",
        "b=np.argsort(a)\n",
        "c=np.argsort(a,axis=0) #Column sorting\n",
        "print('Row sorting')\n",
        "print(b)\n",
        "print('*'*100)\n",
        "print('column sorting')\n",
        "print(c)"
      ],
      "metadata": {
        "colab": {
          "base_uri": "https://localhost:8080/"
        },
        "id": "5lqZBmX2o2Jy",
        "outputId": "9c712401-b45a-4f50-f49e-dd494f153be1"
      },
      "execution_count": null,
      "outputs": [
        {
          "output_type": "stream",
          "name": "stdout",
          "text": [
            "[[4 6 3 2]\n",
            " [3 7 4 6]\n",
            " [8 8 2 1]\n",
            " [6 5 3 4]\n",
            " [9 0 8 5]]\n",
            "****************************************************************************************************\n",
            "Row sorting\n",
            "[[3 2 0 1]\n",
            " [0 2 3 1]\n",
            " [3 2 0 1]\n",
            " [2 3 1 0]\n",
            " [1 3 2 0]]\n",
            "****************************************************************************************************\n",
            "column sorting\n",
            "[[1 4 2 2]\n",
            " [0 3 0 0]\n",
            " [3 0 3 3]\n",
            " [2 1 1 4]\n",
            " [4 2 4 1]]\n"
          ]
        }
      ]
    },
    {
      "cell_type": "markdown",
      "source": [
        "2D arg sorting(asc)\n",
        "\n",
        "values  - values sort - index values\n",
        "\n",
        "4 6 3 2 - 2 3 4 6 - 3 2 0 1\n",
        "\n",
        "3 7 4 6 - 3 4 6 7 - 0 2 3 1\n",
        "\n",
        "8 8 2 1 - 1 2 8 8 - 3 2 0 1\n",
        "\n",
        "6 5 3 4 - 3 4 5 6 - 2 3 1 0\n",
        "\n",
        "9 0 8 5 - 0 4 8 9 - 1 3 2 0"
      ],
      "metadata": {
        "id": "0ZjSs2w1ptLk"
      }
    },
    {
      "cell_type": "markdown",
      "source": [
        "2D arg sorting(column sort)\n",
        "\n",
        "values - values sort - index values\n",
        "\n",
        "4 6 3 2 - 3 0 2 1 - 1 4 2 2\n",
        "\n",
        "3 7 4 6 - 4 5 3 2 - 0 3 0 0\n",
        "\n",
        "8 8 2 1 - 6 6 3 4 - 3 0 3 3\n",
        "\n",
        "6 5 3 4 - 8 7 4 5 - 2 1 1 4\n",
        "\n",
        "9 0 8 5 - 9 8 8 6 - 4 2 4 1"
      ],
      "metadata": {
        "id": "IJOtCu-2r83_"
      }
    },
    {
      "cell_type": "markdown",
      "source": [
        "#Max value - statistics"
      ],
      "metadata": {
        "id": "QK_KoggYNkLM"
      }
    },
    {
      "cell_type": "code",
      "source": [
        "#07/11/2022\n",
        "import numpy as np\n",
        "a=np.array([5,3,2,6,7,10,15,17,25,22])\n",
        "print(a)\n",
        "b=np.max(a)\n",
        "print('*'*100)\n",
        "print(b)\n",
        "b=np.argmax(a)\n",
        "print('*'*100)\n",
        "print(b)\n",
        "print('*'*100)\n",
        "a=np.array([[2,3,4,5],[9,8,5,6],[2,10,7,8],[16,17,8,9]])\n",
        "print(a)\n",
        "b=np.max(a,axis=0) #returns each columns max value\n",
        "print('*'*100)\n",
        "print(b)\n",
        "b=np.argmax(a,axis=0) #Returns index values\n",
        "print(b)\n",
        "print('*'*100)\n",
        "b=np.max(a,axis=1) #returns each rows max value\n",
        "print(b)\n",
        "b=np.min(a,axis=1)\n",
        "print(b)\n",
        "b=np.argmin(a,axis=1) #retuns min values indexes\n",
        "print(b)"
      ],
      "metadata": {
        "colab": {
          "base_uri": "https://localhost:8080/"
        },
        "id": "N-G9KIgzMIXc",
        "outputId": "1df87303-f1df-47c6-ecb3-a988712f974b"
      },
      "execution_count": null,
      "outputs": [
        {
          "output_type": "stream",
          "name": "stdout",
          "text": [
            "[ 5  3  2  6  7 10 15 17 25 22]\n",
            "****************************************************************************************************\n",
            "25\n",
            "****************************************************************************************************\n",
            "8\n",
            "****************************************************************************************************\n",
            "[[ 2  3  4  5]\n",
            " [ 9  8  5  6]\n",
            " [ 2 10  7  8]\n",
            " [16 17  8  9]]\n",
            "****************************************************************************************************\n",
            "[16 17  8  9]\n",
            "[3 3 3 3]\n",
            "****************************************************************************************************\n",
            "[ 5  9 10 17]\n",
            "[2 5 2 8]\n",
            "[0 2 0 2]\n"
          ]
        }
      ]
    },
    {
      "cell_type": "markdown",
      "source": [
        "#Iterations using arrays"
      ],
      "metadata": {
        "id": "jU9cF7yMQOSI"
      }
    },
    {
      "cell_type": "code",
      "source": [
        "import numpy as np\n",
        "a=np.array([5,3,2,6,7,10,15,17,25,22])\n",
        "for i in a:\n",
        "  print(i)"
      ],
      "metadata": {
        "colab": {
          "base_uri": "https://localhost:8080/"
        },
        "id": "TYh8fS84O2Kd",
        "outputId": "952d14b6-5beb-4344-c8bd-af754464c3c6"
      },
      "execution_count": null,
      "outputs": [
        {
          "output_type": "stream",
          "name": "stdout",
          "text": [
            "5\n",
            "3\n",
            "2\n",
            "6\n",
            "7\n",
            "10\n",
            "15\n",
            "17\n",
            "25\n",
            "22\n"
          ]
        }
      ]
    },
    {
      "cell_type": "code",
      "source": [
        "a=np.array([[2,3,4,5],[9,8,5,6],[2,10,7,8],[16,17,8,9]])\n",
        "for i in a:\n",
        "  for j in i:\n",
        "    print(j)"
      ],
      "metadata": {
        "colab": {
          "base_uri": "https://localhost:8080/"
        },
        "id": "2S6pzud6PiOp",
        "outputId": "37ae99f2-1f12-4042-b468-23268267b539"
      },
      "execution_count": null,
      "outputs": [
        {
          "output_type": "stream",
          "name": "stdout",
          "text": [
            "2\n",
            "3\n",
            "4\n",
            "5\n",
            "9\n",
            "8\n",
            "5\n",
            "6\n",
            "2\n",
            "10\n",
            "7\n",
            "8\n",
            "16\n",
            "17\n",
            "8\n",
            "9\n"
          ]
        }
      ]
    },
    {
      "cell_type": "markdown",
      "source": [
        "#Joining matrix\n",
        "#Concatenate function"
      ],
      "metadata": {
        "id": "OyWyPn1fQubi"
      }
    },
    {
      "cell_type": "code",
      "source": [
        "import numpy as np\n",
        "a=np.array([1,2,3,4,5,6])\n",
        "b=np.array([4,5,6,7,8,9])\n",
        "c=np.concatenate((a,b))\n",
        "print(c)\n"
      ],
      "metadata": {
        "colab": {
          "base_uri": "https://localhost:8080/"
        },
        "id": "0cgrLwzLQbX0",
        "outputId": "6c07ed50-4b6a-4672-e6d1-bd5f91d081fc"
      },
      "execution_count": null,
      "outputs": [
        {
          "output_type": "stream",
          "name": "stdout",
          "text": [
            "[1 2 3 4 5 6 4 5 6 7 8 9]\n"
          ]
        }
      ]
    },
    {
      "cell_type": "markdown",
      "source": [
        "#2D joining"
      ],
      "metadata": {
        "id": "rYK_nXtwRlav"
      }
    },
    {
      "cell_type": "code",
      "source": [
        "import numpy as np\n",
        "a=np.array([[1,2,3],[4,5,6]])\n",
        "b=np.array([[7,8,9],[5,4,3]])\n",
        "c=np.concatenate((a,b)) #default column vise\n",
        "print(c)\n",
        "print('*'*100)\n",
        "c=np.concatenate((a,b),axis=1)\n",
        "print(c)"
      ],
      "metadata": {
        "colab": {
          "base_uri": "https://localhost:8080/"
        },
        "id": "S0jlKxlzRV8A",
        "outputId": "17e28303-f98c-4c9a-d04a-806e84697638"
      },
      "execution_count": null,
      "outputs": [
        {
          "output_type": "stream",
          "name": "stdout",
          "text": [
            "[[1 2 3]\n",
            " [4 5 6]\n",
            " [7 8 9]\n",
            " [5 4 3]]\n",
            "****************************************************************************************************\n",
            "[[1 2 3 7 8 9]\n",
            " [4 5 6 5 4 3]]\n"
          ]
        }
      ]
    },
    {
      "cell_type": "markdown",
      "source": [
        "#where 08/11\n",
        "\n",
        "It returns the index values"
      ],
      "metadata": {
        "id": "sOOIW3lIGVGS"
      }
    },
    {
      "cell_type": "code",
      "source": [
        "import numpy as np\n",
        "a=np.array([5,6,7,8,4,3,2,4,6,5,4])\n",
        "x=np.where(a%2==0)\n",
        "print(x)"
      ],
      "metadata": {
        "colab": {
          "base_uri": "https://localhost:8080/"
        },
        "id": "wNrw5SYvGYyM",
        "outputId": "dbf32785-96cc-4f91-fea6-6d443b9b77c3"
      },
      "execution_count": null,
      "outputs": [
        {
          "output_type": "stream",
          "name": "stdout",
          "text": [
            "(array([ 1,  3,  4,  6,  7,  8, 10]),)\n"
          ]
        }
      ]
    },
    {
      "cell_type": "code",
      "source": [
        "import numpy as np\n",
        "a=np.array([[1,2,3,4],[2,3,4,5]])\n",
        "x=np.where(a%2==0)\n",
        "print(x)"
      ],
      "metadata": {
        "colab": {
          "base_uri": "https://localhost:8080/"
        },
        "id": "2w12BS_vGxhG",
        "outputId": "64d13e8d-ba60-4f1e-e863-530a041252ca"
      },
      "execution_count": null,
      "outputs": [
        {
          "output_type": "stream",
          "name": "stdout",
          "text": [
            "(array([0, 0, 1, 1]), array([1, 3, 0, 2]))\n"
          ]
        }
      ]
    },
    {
      "cell_type": "markdown",
      "source": [
        "#filter"
      ],
      "metadata": {
        "id": "TeDcwkidHJ53"
      }
    },
    {
      "cell_type": "code",
      "source": [
        "import numpy as np\n",
        "arr=np.array([41,42,43,44,45,46])\n",
        "filter_arr=arr>42\n",
        "print(filter_arr)\n",
        "new_arr=arr[filter_arr]\n",
        "print(new_arr)"
      ],
      "metadata": {
        "colab": {
          "base_uri": "https://localhost:8080/"
        },
        "id": "WFVnJnexHMim",
        "outputId": "f19e0e2d-5db6-44bc-e1f9-b9c2fe988d87"
      },
      "execution_count": null,
      "outputs": [
        {
          "output_type": "stream",
          "name": "stdout",
          "text": [
            "[False False  True  True  True  True]\n",
            "[43 44 45 46]\n"
          ]
        }
      ]
    },
    {
      "cell_type": "code",
      "source": [
        "#1 to 50 element array\n",
        "#even number\n",
        "import numpy as np\n",
        "a=np.arange(1,51)\n",
        "print(a)\n",
        "x=np.where(a%2==0)\n",
        "print(x)\n",
        "filter_data=a%2==0\n",
        "new_arr=a[filter_data]\n",
        "print(new_arr)"
      ],
      "metadata": {
        "colab": {
          "base_uri": "https://localhost:8080/"
        },
        "id": "QawR397rH8_3",
        "outputId": "5a3c6645-83ce-46ce-a958-dee04b4a0029"
      },
      "execution_count": null,
      "outputs": [
        {
          "output_type": "stream",
          "name": "stdout",
          "text": [
            "[ 1  2  3  4  5  6  7  8  9 10 11 12 13 14 15 16 17 18 19 20 21 22 23 24\n",
            " 25 26 27 28 29 30 31 32 33 34 35 36 37 38 39 40 41 42 43 44 45 46 47 48\n",
            " 49 50]\n",
            "(array([ 1,  3,  5,  7,  9, 11, 13, 15, 17, 19, 21, 23, 25, 27, 29, 31, 33,\n",
            "       35, 37, 39, 41, 43, 45, 47, 49]),)\n",
            "[ 2  4  6  8 10 12 14 16 18 20 22 24 26 28 30 32 34 36 38 40 42 44 46 48\n",
            " 50]\n"
          ]
        }
      ]
    },
    {
      "cell_type": "markdown",
      "source": [
        "#Vertically stacking vectors(extra)"
      ],
      "metadata": {
        "id": "keB2fnYcKAXL"
      }
    },
    {
      "cell_type": "code",
      "source": [
        "import numpy as np\n",
        "v1 = np.array([1,2,3,4])\n",
        "v2 = np.array([5,6,7,8])\n",
        "\n",
        "np.vstack([v1,v2,v1,v2])#only considers when they has same columns\n"
      ],
      "metadata": {
        "colab": {
          "base_uri": "https://localhost:8080/"
        },
        "id": "aun1yxmGKsGJ",
        "outputId": "9574a026-3837-49f8-b0ed-91f3abe327ec"
      },
      "execution_count": null,
      "outputs": [
        {
          "output_type": "execute_result",
          "data": {
            "text/plain": [
              "array([[1, 2, 3, 4],\n",
              "       [5, 6, 7, 8],\n",
              "       [1, 2, 3, 4],\n",
              "       [5, 6, 7, 8]])"
            ]
          },
          "metadata": {},
          "execution_count": 4
        }
      ]
    }
  ]
}